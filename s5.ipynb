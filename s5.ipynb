{
 "cells": [
  {
   "cell_type": "markdown",
   "id": "f4f81086",
   "metadata": {},
   "source": [
    "Q-1. Write an SQL query to print details of workers excluding first names, “Vipul” and “Satish” from Worker table.\n",
    "Ans: SELECT * FROM Worker WHERE FIRST_NAME NOT IN ('Vipul','Satish');\n"
   ]
  },
  {
   "cell_type": "markdown",
   "id": "886a09db",
   "metadata": {},
   "source": [
    "Q-2. Write an SQL query to print details of the Workers whose FIRST_NAME ends with ‘h’ and contains six alphabets.\n",
    "Ans: SELECT * FROM Worker WHERE FIRST_NAME LIKE '______h';\n"
   ]
  },
  {
   "cell_type": "markdown",
   "id": "0fa9da8b",
   "metadata": {},
   "source": [
    "Q-3. Write a query to validate Email of Employee.\n",
    "Ans: SELECT * FROM Worker WHERE email LIKE \"_%@_%._%\""
   ]
  }
 ],
 "metadata": {
  "kernelspec": {
   "display_name": "Python 3 (ipykernel)",
   "language": "python",
   "name": "python3"
  },
  "language_info": {
   "codemirror_mode": {
    "name": "ipython",
    "version": 3
   },
   "file_extension": ".py",
   "mimetype": "text/x-python",
   "name": "python",
   "nbconvert_exporter": "python",
   "pygments_lexer": "ipython3",
   "version": "3.9.7"
  }
 },
 "nbformat": 4,
 "nbformat_minor": 5
}

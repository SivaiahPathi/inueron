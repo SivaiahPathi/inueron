{
 "cells": [
  {
   "cell_type": "markdown",
   "id": "98d31514",
   "metadata": {},
   "source": [
    "Q-1. Write an SQL query to fetch “FIRST_NAME” from Worker table using the alias name as.\n",
    "Ans: SELECT FIRST_NAME AS WORKER_NAME FROM Worker;\n"
   ]
  },
  {
   "cell_type": "markdown",
   "id": "9631c72b",
   "metadata": {},
   "source": [
    "Q-2. Write an SQL query to fetch unique values of DEPARTMENT from Worker table.\n",
    "Ans: SELECT DISTINCT DEPARTMENT FROM Worker;\n"
   ]
  },
  {
   "cell_type": "markdown",
   "id": "dfb2dbdf",
   "metadata": {},
   "source": [
    "Q-3. Write an SQL query to show the last 5 record from a table.\n",
    "Ans: SELECT * from Worker ORDER by id DESC LIMIT 5;"
   ]
  }
 ],
 "metadata": {
  "kernelspec": {
   "display_name": "Python 3 (ipykernel)",
   "language": "python",
   "name": "python3"
  },
  "language_info": {
   "codemirror_mode": {
    "name": "ipython",
    "version": 3
   },
   "file_extension": ".py",
   "mimetype": "text/x-python",
   "name": "python",
   "nbconvert_exporter": "python",
   "pygments_lexer": "ipython3",
   "version": "3.9.7"
  }
 },
 "nbformat": 4,
 "nbformat_minor": 5
}

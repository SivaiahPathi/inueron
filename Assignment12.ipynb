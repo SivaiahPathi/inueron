{
 "cells": [
  {
   "cell_type": "markdown",
   "id": "57f37b3e",
   "metadata": {},
   "source": [
    "1. In what modes should the PdfFileReader() and PdfFileWriter() File objects will be opened?\n",
    "\n",
    "A.Read-binary ('rb') for PdfFileReader() and write-binary ('wb') for PdfFileWriter()\n",
    "\n",
    "2. From a PdfFileReader object, how do you get a Page object for page 5?\n",
    "\n",
    "A.Calling getPage(4) will return a Page object for About this Book, since page 0 is the first page.\n",
    "\n",
    "3. What PdfFileReader variable stores the number of pages in the PDF document?\n",
    "\n",
    "A.The numPages variable stores an integer of the number of pages in the PdfFileReader object.\n",
    "\n",
    "4. If a PdfFileReader object’s PDF is encrypted with the password swordfish, what must you do before you can obtain Page objects from it?\n",
    "\n",
    "A.Call decrypt('swordfish')\n",
    "\n",
    "5. What methods do you use to rotate a page?\n",
    "\n",
    "A. \"Ctrl+Shift+L\" keys or \"Ctrl+Shift+R\" key\n",
    "\n",
    "6. What is the difference between a Run object and a Paragraph object?\n",
    "\n",
    "A.A document contains multiple paragraphs. A paragraph begins on a new line and contains multiple runs. Runs are contiguous groups of characters within the a paragraph.\n",
    "\n",
    "7. How do you obtain a list of Paragraph objects for a Document object that’s stored in a variable named doc?\n",
    "\n",
    "A.By using doc.paragraphs\n",
    "\n",
    "\n",
    "8. What type of object has bold, underline, italic, strike, and outline variables?\n",
    "\n",
    "A.A Run object has bold, underline,italic,strike and outline variables\n",
    "\n",
    "\n",
    "9. What is the difference between False, True, and None for the bold variable?\n",
    "\n",
    "A.Runs can be further styled using text attributes. Each attribute can be set to one of three values:\n",
    "True (the attribute is always enabled, no matter what other styles are applied to the run),\n",
    "False (the attribute is always disabled),\n",
    "None (defaults to whatever the run’s style is set to)\n",
    "True always makes the Run object bolded and False makes it always not bolded, no matter what the style’s bold setting is. None will make the Run object just use the style’s bold setting\n",
    "\n",
    "10. How do you create a Document object for a new Word document?\n",
    "\n",
    "A.By Calling the docx.Document() function.\n",
    "\n",
    "11. How do you add a paragraph with the text 'Hello, there!' to a Document object stored in a variable named doc?\n",
    "\n",
    "A.doc.add_paragraph('Hello there!')\n",
    "\n",
    "12. What integers represent the levels of headings available in Word documents?\n",
    "\n",
    "\n",
    "A.integer from 0 to 4\n",
    "The arguments to add_heading() are a string of the heading text and an integer from 0 to 4. The integer 0 makes the heading the Title style, which is used for the top of the document. Integers 1 to 4 are for various heading levels, with 1 being the main heading and 4 the lowest subheading\n"
   ]
  },
  {
   "cell_type": "code",
   "execution_count": 9,
   "id": "0e2740c8",
   "metadata": {},
   "outputs": [],
   "source": [
    "import docx\n",
    "doc = docx.Document()\n",
    "\n",
    "doc.add_paragraph('Hello there!')\n",
    "doc.save('hellothere.docx')"
   ]
  },
  {
   "cell_type": "code",
   "execution_count": 1,
   "id": "39d052ca",
   "metadata": {},
   "outputs": [
    {
     "name": "stdout",
     "output_type": "stream",
     "text": [
      "Collecting PyPDF2\n",
      "  Downloading PyPDF2-1.27.12-py3-none-any.whl (80 kB)\n",
      "Installing collected packages: PyPDF2\n",
      "Successfully installed PyPDF2-1.27.12\n"
     ]
    }
   ],
   "source": [
    "!pip install PyPDF2"
   ]
  },
  {
   "cell_type": "code",
   "execution_count": 4,
   "id": "4d223a27",
   "metadata": {},
   "outputs": [
    {
     "data": {
      "text/plain": [
       "'andtheremovalofacarmodelfrom themarket.Foreachdecision,weestimatenew manufacturer\\npro\\nÞ\\nts andtheresultingpatternofgeographicdemand.\\nTomakethese inferences,weestimatearandomco e\\ncientsnestedlogitmodelusingaunique\\nindividual-leveldatasetwithtransactioninfor\\nmationab outdealerandmanufacturerprices,car\\ncharacteristics,andzipc odeloc ationofsellers andbuyers.Weaugmentthist ransactionaldata\\n\\nusingCensusinformationonconsumerdemogra\\nphics,andestimatethedemandparametersusing\\nsimulatedmaximumlikelihood,whiletakinginto\\naccountc onsumerheterogeneityandendogeneity\\nbetweenpricesand unobservedcarattributes\\n.Ourmethodiseasytoimplementandusesdata\\nthataretypicallyavailabletocarmanufacturers.\\nWeempiricallydemonstrateourapproachusingt\\nhesportutilityvehiclescategoryintheSan\\nDiegoarea.Regardingdemand,ourresultsshowthatconsumerstreatalternativesofthesamecar\\n\\ntype- mini,compact,andfullsize- ascloses ubstitutesandevenmores oiftheys harethes ame\\n\\nbrand.WearguethatthemainreasonforthisisthefactthatSUVswithintypeshareverysimilar\\n\\nfeatures.Thus,ourresultssuggestthataconsumerwhodecidest obuyaSUVislikelytosearch\\n\\namongavailablealternative swithinacartypeandmuchlesssoacrossdi\\nerentcar types.\\nWhendecidingwheretobuyacar,consumershave\\na strong negativesensitivityto distance to\\ncardealerships.Themajorityofdemandofac arde\\nalershiporiginatesfromconsumersloc atedin\\ncloseproximityandwe\\nÞ\\nndthattheprobabilityofconsumerschoosing adealerdeclinessharply\\nasdistanceincreases.WhilesubstitutionisstrongestamongalternativesofthesameSUVtype,it\\n\\nissigni\\nÞ\\ncantlyhigherifdistancebetweendealers issmall.Inother words,thenegativesensitivity\\ntodistancecausesdealerandcarsubstitutiontobelimitedtoshortdistances.Asaresult,each\\n\\ndealerhasitsownloc aldemand‚backyard™,sharedwitha smallsetofnearbyalternative softhe\\n\\nsametyp eandbrand.Asanoutputofourmo del, examplesofgeographicvariationofdemand\\n\\nacrossgeographyforc ars,dealers,andmanufacturersareprovide d.\\nOuranalysisshowsthattheshapeofmarketareasisstronglydetermined bythelo cationof\\ncompetitors.Forinstance, itisnotuncommonto\\nÞ\\nndthatthehighestdemandis notatthe\\nlocationofthedealer,butinstead,atlocations thatarefurthestfromdirectsubstitutes.Although\\n\\nthisconclusionistobeexpect,theabilitytoquantifyitinacomplexscenarioofamultitudeof\\n\\ndealers andalternativesi nthemarketis nonethel\\nessofe xtremeuseformanagersdeciding onprice\\nandpromotionalactivities.\\nAdditionally,wecomputemarketareasatthemanufacturerlevelbyconsolidatingthemarket\\nareasofitsdealersand wereportsomeinteresting patternsinlocationdecisions.Forinstance,\\n4\\n'"
      ]
     },
     "execution_count": 4,
     "metadata": {},
     "output_type": "execute_result"
    }
   ],
   "source": [
    "import PyPDF2 as pdf\n",
    "pdfFileObj = open(\"Market_areas_of_car_dealerships.pdf\",'rb')\n",
    "pdfReader = pdf.PdfFileReader(pdfFileObj)\n",
    "pageObj = pdfReader.getPage(4)\n",
    "pageObj.extractText()"
   ]
  },
  {
   "cell_type": "code",
   "execution_count": 5,
   "id": "ac27b4e2",
   "metadata": {},
   "outputs": [
    {
     "data": {
      "text/plain": [
       "38"
      ]
     },
     "execution_count": 5,
     "metadata": {},
     "output_type": "execute_result"
    }
   ],
   "source": [
    "import PyPDF2 as pdf\n",
    "pdfFileObj = open(\"Market_areas_of_car_dealerships.pdf\",'rb')\n",
    "pdfReader = pdf.PdfFileReader(pdfFileObj)\n",
    "pdfReader.numPages"
   ]
  },
  {
   "cell_type": "code",
   "execution_count": 7,
   "id": "1384d331",
   "metadata": {},
   "outputs": [
    {
     "name": "stdout",
     "output_type": "stream",
     "text": [
      "Collecting python-docx\n",
      "  Downloading python-docx-0.8.11.tar.gz (5.6 MB)\n",
      "Requirement already satisfied: lxml>=2.3.2 in c:\\users\\sivai\\anaconda3\\lib\\site-packages (from python-docx) (4.6.3)\n",
      "Building wheels for collected packages: python-docx\n",
      "  Building wheel for python-docx (setup.py): started\n",
      "  Building wheel for python-docx (setup.py): finished with status 'done'\n",
      "  Created wheel for python-docx: filename=python_docx-0.8.11-py3-none-any.whl size=184508 sha256=74e753911f867a4cdd4906bf64fe627663d32f70dab69507e8a93eb1ca860f1a\n",
      "  Stored in directory: c:\\users\\sivai\\appdata\\local\\pip\\cache\\wheels\\83\\8b\\7c\\09ae60c42c7ba4ed2dddaf2b8b9186cb105255856d6ed3dba5\n",
      "Successfully built python-docx\n",
      "Installing collected packages: python-docx\n",
      "Successfully installed python-docx-0.8.11\n"
     ]
    }
   ],
   "source": [
    "!pip install python-docx\n"
   ]
  },
  {
   "cell_type": "code",
   "execution_count": null,
   "id": "f0cb07ec",
   "metadata": {},
   "outputs": [],
   "source": [
    "import docx\n",
    "doc = docx.Document('Sat_converted_by_abcdpdf.docx')\n",
    "doc.paragraphs\n",
    "#By using doc.paragraphs"
   ]
  }
 ],
 "metadata": {
  "kernelspec": {
   "display_name": "Python 3 (ipykernel)",
   "language": "python",
   "name": "python3"
  },
  "language_info": {
   "codemirror_mode": {
    "name": "ipython",
    "version": 3
   },
   "file_extension": ".py",
   "mimetype": "text/x-python",
   "name": "python",
   "nbconvert_exporter": "python",
   "pygments_lexer": "ipython3",
   "version": "3.9.7"
  }
 },
 "nbformat": 4,
 "nbformat_minor": 5
}

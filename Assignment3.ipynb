{
 "cells": [
  {
   "cell_type": "markdown",
   "id": "b060c76c",
   "metadata": {},
   "source": [
    "1. Why are functions advantageous to have in your programs?\n",
    "\n",
    "A.Functions are used for to Reduce Duplicate code.\n",
    "\n",
    "2. When does the code in a function run: when it's specified or when it's called?\n",
    "\n",
    "A. the program control jumps to that function definition and executes the statements inside the function body\n",
    "\n",
    "3. What statement creates a function?\n",
    "\n",
    "A.By using DEF we can define the function.\n",
    "\n",
    "4. What is the difference between a function and a function call?\n",
    "\n",
    "A.A function is a block of code that does a particular operation and returns a result. It usually accepts inputs as parameters and returns a result. The parameters are not mandatory.\n",
    "A function call is the code used to pass control to a function.\n",
    "\n",
    "5. How many global scopes are there in a Python program? How many local scopes?\n",
    "\n",
    "A. global scopes is only one in python. there are four local scopes are there in python.\n",
    "\n",
    "6. What happens to variables in a local scope when the function call returns?\n",
    "\n",
    "A.the local variables are destroyed. Codelens helps you visualize this because the local variables disappear after the function returns.\n",
    "\n",
    "7. What is the concept of a return value? Is it possible to have a return value in an expression?\n",
    "\n",
    "A.A return is a value that a function returns to the calling script or function when it completes its task.\n",
    "A return statement is used to end the execution of the function call and “returns” the result (value of the expression following the return keyword) to the caller. The statements after the return statements are not executed. If the return statement is without any expression, then the special value None is returned.\n",
    "\n",
    "8. If a function does not have a return statement, what is the return value of a call to that function?\n",
    "\n",
    "A.Undefined.\n",
    "\n",
    "9. How do you make a function variable refer to the global variable?\n",
    "\n",
    "A.using the global keyword to declare which variables are global\n",
    "\n",
    "10. What is the data type of None?\n",
    "\n",
    "A.None is a data type of its own (NoneType) and only None can be None.\n",
    "\n",
    "11. What does the sentence import areallyourpetsnamederic do?\n",
    "\n",
    "A.That import statement imports a module named areallyourpetsnamederic.\n",
    "\n",
    "12. If you had a bacon() feature in a spam module, what would you call it after importing spam?\n",
    "\n",
    "A.spam.bacon()\n",
    "\n",
    "13. What can you do to save a programme from crashing if it encounters an error?\n",
    "\n",
    "A. Try running the program and it should throw an error message instead of crashing the program.\n",
    "\n",
    "14. What is the purpose of the try clause? What is the purpose of the except clause?\n",
    "\n",
    "A.The try block lets you test a block of code for errors. The except block lets you handle the error.\n"
   ]
  }
 ],
 "metadata": {
  "kernelspec": {
   "display_name": "Python 3 (ipykernel)",
   "language": "python",
   "name": "python3"
  },
  "language_info": {
   "codemirror_mode": {
    "name": "ipython",
    "version": 3
   },
   "file_extension": ".py",
   "mimetype": "text/x-python",
   "name": "python",
   "nbconvert_exporter": "python",
   "pygments_lexer": "ipython3",
   "version": "3.9.7"
  }
 },
 "nbformat": 4,
 "nbformat_minor": 5
}

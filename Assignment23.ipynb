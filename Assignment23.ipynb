{
 "cells": [
  {
   "cell_type": "raw",
   "id": "86542f77",
   "metadata": {},
   "source": [
    "1. What is the result of the code, and why? >>> def func(a, b=6, c=8): print(a, b, c) >>> func(1, 2)"
   ]
  },
  {
   "cell_type": "code",
   "execution_count": 1,
   "id": "b161d354",
   "metadata": {},
   "outputs": [
    {
     "name": "stdout",
     "output_type": "stream",
     "text": [
      "1 2 8\n"
     ]
    }
   ],
   "source": [
    "def func(a, b=6,c=8):\n",
    "    print(a, b, c)\n",
    "func(1, 2)\n",
    "# Ans. This funtion is taking a positional argument and 2 keyward argument. When function call m=is made, parameter passed \n",
    "  # are a=1,b=2. When the function is executed , parameter c=8 will be taken by default as its a keyword argument.\n",
    "   # solution is = 1,2,8"
   ]
  },
  {
   "cell_type": "raw",
   "id": "a7ec8efc",
   "metadata": {},
   "source": [
    "2. What is the result of this code, and why? >>> def func(a, b, c=5): print(a, b, c) >>> func(1, c=3, b=2)"
   ]
  },
  {
   "cell_type": "code",
   "execution_count": 2,
   "id": "e08d9065",
   "metadata": {},
   "outputs": [
    {
     "name": "stdout",
     "output_type": "stream",
     "text": [
      "1 2 3\n"
     ]
    }
   ],
   "source": [
    "def func(a, b, c=5):\n",
    "    print(a, b, c)\n",
    "func(1, c=3, b=2)\n",
    "\n",
    "# Ans. When we make function call, order will be positional argument and then keywords arguments. we can pass the keyword arguments in any order we want.\n",
    "#Solution is 1,2,3"
   ]
  },
  {
   "cell_type": "raw",
   "id": "1694deed",
   "metadata": {},
   "source": [
    "3. How about this code: what is its result, and why? >>> def func(a, *pargs): print(a, pargs) >>> func(1, 2, 3)"
   ]
  },
  {
   "cell_type": "code",
   "execution_count": 3,
   "id": "c9a4741d",
   "metadata": {},
   "outputs": [
    {
     "name": "stdout",
     "output_type": "stream",
     "text": [
      "1 (2, 3)\n"
     ]
    }
   ],
   "source": [
    "def func(a, *pargs):\n",
    "    print(a, pargs)\n",
    "func(1, 2, 3)\n",
    "\n",
    "# Ans.The return type of *args parameter is tuple, where as **kargs will be dictionary\n",
    "#solution is = 1,(2,3)"
   ]
  },
  {
   "cell_type": "raw",
   "id": "1a1a6966",
   "metadata": {},
   "source": [
    "4. What does this code print, and why? >>> def func(a, **kargs): print(a, kargs) >>> func(a=1, c=3, b=2)"
   ]
  },
  {
   "cell_type": "code",
   "execution_count": 4,
   "id": "16f9f5c6",
   "metadata": {},
   "outputs": [
    {
     "name": "stdout",
     "output_type": "stream",
     "text": [
      "1 {'c': 3, 'b': 2}\n"
     ]
    }
   ],
   "source": [
    "def func(a, **kargs):\n",
    "    print(a, kargs)\n",
    "func(a=1, c=3, b=2)\n",
    "\n",
    "#Ans. The return type of  **kargs is  dictionary\n",
    "#solution is = 1,{'c':3,'b':2}"
   ]
  },
  {
   "cell_type": "raw",
   "id": "bae2c911",
   "metadata": {},
   "source": [
    "5. What gets printed by this, and explain? >>> def func(a, b, c=8, d=5): print(a, b, c, d) >>> func(1, *(5, 6))"
   ]
  },
  {
   "cell_type": "code",
   "execution_count": 5,
   "id": "fa8bb3a0",
   "metadata": {},
   "outputs": [
    {
     "name": "stdout",
     "output_type": "stream",
     "text": [
      "1 5 6 5\n"
     ]
    }
   ],
   "source": [
    "def func(a, b, c=8, d=5): \n",
    "    print(a, b, c, d)\n",
    "func(1, *(5, 6))\n",
    "\n",
    "# '*' is the unpacking operator and are operators that unpack the values from iterable objects in Python. The single \n",
    "#    asterisk operator * can be used on any iterable that Python provides, while the double asterisk operator ** can only \n",
    " #   be used on dictionaries. In the example the value *(5,6) will be unpacked and will be assigned to b and c and passed \n",
    " #   as arguments, d =5 will taken by defaults are keyword arguments.\n",
    "\n",
    "  #  Solution 1,5,6,5"
   ]
  },
  {
   "cell_type": "raw",
   "id": "c9814bf4",
   "metadata": {},
   "source": [
    "6. what is the result of this, and explain? >>> def func(a, b, c): a = 2; b[0] = 'x'; c['a'] = 'y' >>> l=1; m=[1]; n={'a':0} >>> func(l, m, n)\n",
    "\n",
    ">>> l, m, n"
   ]
  },
  {
   "cell_type": "code",
   "execution_count": 6,
   "id": "8a6c9bc7",
   "metadata": {},
   "outputs": [
    {
     "data": {
      "text/plain": [
       "(1, ['x'], {'a': 'y'})"
      ]
     },
     "execution_count": 6,
     "metadata": {},
     "output_type": "execute_result"
    }
   ],
   "source": [
    "def func(a, b, c): \n",
    "    a = 2; b[0] = 'x'; c['a'] = 'y'\n",
    "    \n",
    "l=1; m=[1]; n={'a':0}\n",
    "func(l, m, n)\n",
    "\n",
    "l, m, n\n",
    "\n",
    "# Ans. Here in the code, the list and dict are passed as argument, and those are mutable. Here the list l and parameter b point \n",
    "#to the same list in the memory location where as dict n and c point to the same memory location. Any updates to this \n",
    "#list will update in the memory location\n",
    "\n",
    "#l = 1 , integer values, immutable, m is list, mutable, n is dict, mutable.\n",
    "#output will be = 1,['x'],{'a':'y'}"
   ]
  },
  {
   "cell_type": "code",
   "execution_count": null,
   "id": "a4ce1eea",
   "metadata": {},
   "outputs": [],
   "source": []
  },
  {
   "cell_type": "code",
   "execution_count": null,
   "id": "810f8fd0",
   "metadata": {},
   "outputs": [],
   "source": []
  },
  {
   "cell_type": "code",
   "execution_count": null,
   "id": "a4546879",
   "metadata": {},
   "outputs": [],
   "source": []
  }
 ],
 "metadata": {
  "kernelspec": {
   "display_name": "Python 3 (ipykernel)",
   "language": "python",
   "name": "python3"
  },
  "language_info": {
   "codemirror_mode": {
    "name": "ipython",
    "version": 3
   },
   "file_extension": ".py",
   "mimetype": "text/x-python",
   "name": "python",
   "nbconvert_exporter": "python",
   "pygments_lexer": "ipython3",
   "version": "3.9.7"
  }
 },
 "nbformat": 4,
 "nbformat_minor": 5
}
